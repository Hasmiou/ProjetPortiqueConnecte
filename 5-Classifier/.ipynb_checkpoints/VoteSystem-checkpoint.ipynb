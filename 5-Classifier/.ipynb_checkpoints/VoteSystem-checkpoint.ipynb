{
 "cells": [
  {
   "cell_type": "markdown",
   "metadata": {},
   "source": [
    "### Import librairies\n",
    "Nous importons les bibliothèque fondamentale pour la programme"
   ]
  },
  {
   "cell_type": "code",
   "execution_count": 1,
   "metadata": {
    "collapsed": true
   },
   "outputs": [],
   "source": [
    "import numpy as np\n",
    "import pandas as pd"
   ]
  },
  {
   "cell_type": "markdown",
   "metadata": {},
   "source": [
    "###  Load Data\n",
    "Nous allons importer les données des trainSet et testSet dans les features et la variable à déviner"
   ]
  },
  {
   "cell_type": "code",
   "execution_count": 2,
   "metadata": {},
   "outputs": [
    {
     "data": {
      "text/html": [
       "<div>\n",
       "<style scoped>\n",
       "    .dataframe tbody tr th:only-of-type {\n",
       "        vertical-align: middle;\n",
       "    }\n",
       "\n",
       "    .dataframe tbody tr th {\n",
       "        vertical-align: top;\n",
       "    }\n",
       "\n",
       "    .dataframe thead th {\n",
       "        text-align: right;\n",
       "    }\n",
       "</style>\n",
       "<table border=\"1\" class=\"dataframe\">\n",
       "  <thead>\n",
       "    <tr style=\"text-align: right;\">\n",
       "      <th></th>\n",
       "      <th>ECP</th>\n",
       "      <th>RC</th>\n",
       "      <th>MIN</th>\n",
       "      <th>MAX</th>\n",
       "      <th>MEAN</th>\n",
       "      <th>START</th>\n",
       "      <th>END</th>\n",
       "      <th>DURATION</th>\n",
       "      <th>CV</th>\n",
       "      <th>A1</th>\n",
       "      <th>A2</th>\n",
       "      <th>A3</th>\n",
       "      <th>A4</th>\n",
       "      <th>FP</th>\n",
       "    </tr>\n",
       "  </thead>\n",
       "  <tbody>\n",
       "    <tr>\n",
       "      <th>0</th>\n",
       "      <td>3005FB63AC1F3681EC8815B921</td>\n",
       "      <td>9</td>\n",
       "      <td>-58.5</td>\n",
       "      <td>-52.0</td>\n",
       "      <td>-56.555556</td>\n",
       "      <td>1581420973596918</td>\n",
       "      <td>1581420974726948</td>\n",
       "      <td>1130030</td>\n",
       "      <td>-0.040071</td>\n",
       "      <td>3</td>\n",
       "      <td>0</td>\n",
       "      <td>6</td>\n",
       "      <td>0</td>\n",
       "      <td>0</td>\n",
       "    </tr>\n",
       "    <tr>\n",
       "      <th>1</th>\n",
       "      <td>E2806890000000001834376767</td>\n",
       "      <td>2</td>\n",
       "      <td>-63.0</td>\n",
       "      <td>-62.0</td>\n",
       "      <td>-62.500000</td>\n",
       "      <td>1581427757606159</td>\n",
       "      <td>1581427757711480</td>\n",
       "      <td>105321</td>\n",
       "      <td>-0.008000</td>\n",
       "      <td>0</td>\n",
       "      <td>0</td>\n",
       "      <td>2</td>\n",
       "      <td>0</td>\n",
       "      <td>0</td>\n",
       "    </tr>\n",
       "    <tr>\n",
       "      <th>2</th>\n",
       "      <td>E2806890000000001834531777</td>\n",
       "      <td>66</td>\n",
       "      <td>-63.5</td>\n",
       "      <td>-58.0</td>\n",
       "      <td>-60.045455</td>\n",
       "      <td>1581426772161856</td>\n",
       "      <td>1581426781271598</td>\n",
       "      <td>9109742</td>\n",
       "      <td>-0.016888</td>\n",
       "      <td>66</td>\n",
       "      <td>0</td>\n",
       "      <td>0</td>\n",
       "      <td>0</td>\n",
       "      <td>1</td>\n",
       "    </tr>\n",
       "    <tr>\n",
       "      <th>3</th>\n",
       "      <td>2005FB63EAC13681E4EC0FD224</td>\n",
       "      <td>4</td>\n",
       "      <td>-65.0</td>\n",
       "      <td>-59.0</td>\n",
       "      <td>-62.000000</td>\n",
       "      <td>1581420375415960</td>\n",
       "      <td>1581420375804651</td>\n",
       "      <td>388691</td>\n",
       "      <td>-0.038253</td>\n",
       "      <td>0</td>\n",
       "      <td>4</td>\n",
       "      <td>0</td>\n",
       "      <td>0</td>\n",
       "      <td>0</td>\n",
       "    </tr>\n",
       "    <tr>\n",
       "      <th>4</th>\n",
       "      <td>3005FB63AC1F3681EC88142830</td>\n",
       "      <td>7</td>\n",
       "      <td>-57.5</td>\n",
       "      <td>-45.0</td>\n",
       "      <td>-50.928571</td>\n",
       "      <td>1581414771515647</td>\n",
       "      <td>1581414773005717</td>\n",
       "      <td>1490070</td>\n",
       "      <td>-0.087408</td>\n",
       "      <td>7</td>\n",
       "      <td>0</td>\n",
       "      <td>0</td>\n",
       "      <td>0</td>\n",
       "      <td>0</td>\n",
       "    </tr>\n",
       "  </tbody>\n",
       "</table>\n",
       "</div>"
      ],
      "text/plain": [
       "                          ECP  RC   MIN   MAX       MEAN             START  \\\n",
       "0  3005FB63AC1F3681EC8815B921   9 -58.5 -52.0 -56.555556  1581420973596918   \n",
       "1  E2806890000000001834376767   2 -63.0 -62.0 -62.500000  1581427757606159   \n",
       "2  E2806890000000001834531777  66 -63.5 -58.0 -60.045455  1581426772161856   \n",
       "3  2005FB63EAC13681E4EC0FD224   4 -65.0 -59.0 -62.000000  1581420375415960   \n",
       "4  3005FB63AC1F3681EC88142830   7 -57.5 -45.0 -50.928571  1581414771515647   \n",
       "\n",
       "                END  DURATION        CV  A1  A2  A3  A4  FP  \n",
       "0  1581420974726948   1130030 -0.040071   3   0   6   0   0  \n",
       "1  1581427757711480    105321 -0.008000   0   0   2   0   0  \n",
       "2  1581426781271598   9109742 -0.016888  66   0   0   0   1  \n",
       "3  1581420375804651    388691 -0.038253   0   4   0   0   0  \n",
       "4  1581414773005717   1490070 -0.087408   7   0   0   0   0  "
      ]
     },
     "execution_count": 2,
     "metadata": {},
     "output_type": "execute_result"
    }
   ],
   "source": [
    "path='../3-DataSet/dataFinale/p25/testSet_p25.csv'\n",
    "#path='../3-DataSet/dataFinale/p27/testSet_p27.csv'\n",
    "#path='../3-DataSet/dataFinale/p230/testSet_p30.csv'\n",
    "\n",
    "#cols=[\"ECP\",\"RC\",\"MIN\",\"MAX\",\"MEAN\",\"START\",\"END\",\"DURATION\",\"CV\",\"A1\",\"A2\",\"A3\",\"A4\"]\n",
    "cols=[\"ECP\",\"RC\",\"MIN\",\"MAX\",\"MEAN\",\"START\",\"END\",\"DURATION\",\"CV\",\"A1\",\"A2\",\"A3\",\"A4\",\"FP\"]\n",
    "toPredict = pd.read_csv(path,names=cols, sep=',')\n",
    "toPredict.head(5)"
   ]
  },
  {
   "cell_type": "markdown",
   "metadata": {},
   "source": [
    "### Normalisation et mise en echelle\n",
    "Avant de faire des prédictions réelles, il est toujours recommandé de mettre à l'échelle les entités afin que toutes puissent être évaluées uniformément. \n",
    "L'algorithme de descente de gradient (qui est utilisé dans la formation de réseaux de neurones et d'autres algorithmes d'apprentissage automatique) converge également plus rapidement avec des fonctionnalités normalisées.\n",
    "![](scaling.JPG)"
   ]
  },
  {
   "cell_type": "code",
   "execution_count": 4,
   "metadata": {
    "collapsed": true
   },
   "outputs": [],
   "source": [
    "from sklearn.preprocessing import StandardScaler\n",
    "\n",
    "def scaleData(data):\n",
    "    scaler = StandardScaler()\n",
    "    scaler.fit(data)\n",
    "    return scaler.transform(data)"
   ]
  },
  {
   "cell_type": "code",
   "execution_count": 5,
   "metadata": {
    "collapsed": true
   },
   "outputs": [],
   "source": [
    "X_toPredict = scaleData(toPredict.loc[:,'RC':'A4'])\n",
    "y_toPredict = toPredict['FP']"
   ]
  },
  {
   "cell_type": "markdown",
   "metadata": {},
   "source": [
    "### Load models and Predict\n",
    "Nous allons charger les différents models enregistrés puis predire les données avec chacun des models"
   ]
  },
  {
   "cell_type": "code",
   "execution_count": 9,
   "metadata": {},
   "outputs": [],
   "source": [
    "import pickle\n",
    "\n",
    "logregFilename = 'logreg_Model.sav'\n",
    "logregModel = pickle.load(open(logregFilename, 'rb'))\n",
    "\n",
    "knnFilename = 'knn_Model.sav'\n",
    "knnModel = pickle.load(open(knnFilename, 'rb'))\n",
    "\n",
    "svmFilename = 'gaussianSVC_Model.sav'\n",
    "svmModel = pickle.load(open(svmFilename, 'rb'))"
   ]
  },
  {
   "cell_type": "markdown",
   "metadata": {},
   "source": [
    "### Evaluation\n",
    "Pour évaluer un algorithme, la matrice de confusion, la précision, le rappel et le score f1 sont les mesures les plus couramment utilisées. Les méthodes confusion_matrixet classification_reportde sklearn.metricspeuvent être utilisées pour calculer ces métriques. Jetez un œil au script suivant:"
   ]
  },
  {
   "cell_type": "code",
   "execution_count": 18,
   "metadata": {
    "collapsed": true
   },
   "outputs": [],
   "source": [
    "from sklearn.metrics import classification_report, confusion_matrix\n",
    "from sklearn import metrics\n",
    "\n",
    "def showConfusionMatrix(ytest,ypred):\n",
    "    print(\"Confusion Matrix \\n\",confusion_matrix(ytest, ypred))\n",
    "    print(\"Repport: \\n\",classification_report(ytest, ypred))\n",
    "    \n",
    "def printMetrics(yTest, yPred):\n",
    "    print(\"Accuracy: \", metrics.accuracy_score(yTest, yPred))\n",
    "    print(\"Ajusted Rand Square\",metrics.adjusted_rand_score(yTest, yPred))"
   ]
  },
  {
   "cell_type": "markdown",
   "metadata": {},
   "source": [
    "### Prediction"
   ]
  },
  {
   "cell_type": "code",
   "execution_count": 19,
   "metadata": {},
   "outputs": [
    {
     "name": "stdout",
     "output_type": "stream",
     "text": [
      "Confusion Matrix \n",
      " [[218   0]\n",
      " [  2   6]]\n",
      "Repport: \n",
      "              precision    recall  f1-score   support\n",
      "\n",
      "          0       0.99      1.00      1.00       218\n",
      "          1       1.00      0.75      0.86         8\n",
      "\n",
      "avg / total       0.99      0.99      0.99       226\n",
      "\n",
      "Accuracy:  0.991150442478\n",
      "Ajusted Rand Square 0.844601574612\n"
     ]
    }
   ],
   "source": [
    "# Logistic Regression\n",
    "logreg_pred = logregModel.predict(X_toPredict)\n",
    "\n",
    "showConfusionMatrix(y_toPredict,logreg_pred)\n",
    "printMetrics(y_toPredict, logreg_pred)"
   ]
  },
  {
   "cell_type": "code",
   "execution_count": 20,
   "metadata": {},
   "outputs": [
    {
     "name": "stdout",
     "output_type": "stream",
     "text": [
      "Confusion Matrix \n",
      " [[217   1]\n",
      " [  2   6]]\n",
      "Repport: \n",
      "              precision    recall  f1-score   support\n",
      "\n",
      "          0       0.99      1.00      0.99       218\n",
      "          1       0.86      0.75      0.80         8\n",
      "\n",
      "avg / total       0.99      0.99      0.99       226\n",
      "\n",
      "Accuracy:  0.986725663717\n",
      "Ajusted Rand Square 0.781849563568\n"
     ]
    }
   ],
   "source": [
    "#Knn Predict\n",
    "knn_pred = knnModel.predict(X_toPredict)\n",
    "\n",
    "showConfusionMatrix(y_toPredict,knn_pred)\n",
    "printMetrics(y_toPredict, knn_pred)"
   ]
  },
  {
   "cell_type": "code",
   "execution_count": 21,
   "metadata": {},
   "outputs": [
    {
     "name": "stdout",
     "output_type": "stream",
     "text": [
      "Confusion Matrix \n",
      " [[218   0]\n",
      " [  2   6]]\n",
      "Repport: \n",
      "              precision    recall  f1-score   support\n",
      "\n",
      "          0       0.99      1.00      1.00       218\n",
      "          1       1.00      0.75      0.86         8\n",
      "\n",
      "avg / total       0.99      0.99      0.99       226\n",
      "\n",
      "Accuracy:  0.991150442478\n",
      "Ajusted Rand Square 0.844601574612\n"
     ]
    }
   ],
   "source": [
    "#SVM Gaussien\n",
    "svm_pred = svmModel.predict(X_toPredict)\n",
    "\n",
    "showConfusionMatrix(y_toPredict,svm_pred)\n",
    "printMetrics(y_toPredict, svm_pred)"
   ]
  },
  {
   "cell_type": "code",
   "execution_count": null,
   "metadata": {
    "collapsed": true
   },
   "outputs": [],
   "source": []
  }
 ],
 "metadata": {
  "kernelspec": {
   "display_name": "Python 3",
   "language": "python",
   "name": "python3"
  },
  "language_info": {
   "codemirror_mode": {
    "name": "ipython",
    "version": 3
   },
   "file_extension": ".py",
   "mimetype": "text/x-python",
   "name": "python",
   "nbconvert_exporter": "python",
   "pygments_lexer": "ipython3",
   "version": "3.6.3"
  }
 },
 "nbformat": 4,
 "nbformat_minor": 2
}
